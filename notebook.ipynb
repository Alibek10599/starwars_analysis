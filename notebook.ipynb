{
 "cells": [
  {
   "cell_type": "markdown",
   "metadata": {},
   "source": [
    "# Analysing Star Wars\n",
    "\n",
    "by `Nurseiit Abdimomyn`\n",
    "\n",
    "id `20172001`\n",
    "\n",
    "at `nurs@unist.ac.kr`"
   ]
  },
  {
   "cell_type": "code",
   "execution_count": 2,
   "metadata": {},
   "outputs": [],
   "source": [
    "import csv # here we go again :P\n",
    "import networkx as nx\n",
    "import matplotlib.pyplot as plt\n",
    "%matplotlib inline"
   ]
  },
  {
   "cell_type": "code",
   "execution_count": 11,
   "metadata": {},
   "outputs": [],
   "source": [
    "# all episodes\n",
    "episodes = {}\n",
    "\n",
    "for i in range(1, 7):\n",
    "    with open('data/StarWars_ep%d.csv' % i, 'r') as f:\n",
    "        reader = csv.reader(f)\n",
    "        ep = [event for event in reader][1:] # ignore header\n",
    "        episodes[i] = ep"
   ]
  },
  {
   "cell_type": "code",
   "execution_count": 13,
   "metadata": {},
   "outputs": [
    {
     "data": {
      "text/plain": [
       "['FIGHTER PILOT',\n",
       " 'RUNE',\n",
       " 'KI-ADI',\n",
       " 'ANAKIN',\n",
       " 'ANAKNI',\n",
       " 'DARTH MAUL',\n",
       " 'CAPTAIN',\n",
       " 'QU-IG0N',\n",
       " 'KITSTER',\n",
       " 'GENERAL CEEL',\n",
       " 'GREEDO',\n",
       " 'EG-9',\n",
       " 'BOSS NASS',\n",
       " 'PR-4',\n",
       " 'JABBA',\n",
       " 'MACE WINDU',\n",
       " 'LOTT DOD',\n",
       " 'AMIDALA',\n",
       " 'BAIL ORGANA',\n",
       " 'AKS MOE',\n",
       " 'BATTLE DROID 3B3',\n",
       " 'DROID GUARD',\n",
       " 'CAPT. PANAKA',\n",
       " 'GUARD',\n",
       " 'TC14',\n",
       " 'MAD AMEDDA',\n",
       " 'ANAKN',\n",
       " 'GUARD DROID',\n",
       " 'SEBULBA',\n",
       " 'BATTLE DROID CAPTAIN',\n",
       " 'CAPT. TARPALS',\n",
       " 'PALPATINE',\n",
       " 'YODA',\n",
       " 'DARTH SIDIOUS',\n",
       " 'OWO-1',\n",
       " 'VALORUM',\n",
       " 'JAR JAR',\n",
       " 'OBI-WAN',\n",
       " 'SEEK',\n",
       " 'RIC OLIE',\n",
       " 'QUI-GON',\n",
       " 'GUI-GON',\n",
       " 'RABE',\n",
       " 'NUTE',\n",
       " 'DOFINE',\n",
       " 'PADME',\n",
       " 'CAPTAIN PANAKA',\n",
       " 'TC-14',\n",
       " 'BRAVO THREE',\n",
       " 'GUNGAN LOOKOUT',\n",
       " 'A',\n",
       " 'ANKAIN',\n",
       " 'AMEE',\n",
       " 'PILOT',\n",
       " 'SABE',\n",
       " 'PANAKA',\n",
       " 'SHMI',\n",
       " 'WATTO',\n",
       " 'TEY HOW',\n",
       " 'PK-4',\n",
       " 'VENDOR',\n",
       " 'BIBBLE',\n",
       " 'OOM-9',\n",
       " 'JIRA',\n",
       " 'MAS AMEDDA',\n",
       " 'ASSEMBLY',\n",
       " 'THREEPIO',\n",
       " 'P-59',\n",
       " 'PALAPATINE',\n",
       " 'FANTA',\n",
       " 'BRAVO TWO',\n",
       " 'WALD']"
      ]
     },
     "execution_count": 13,
     "metadata": {},
     "output_type": "execute_result"
    }
   ],
   "source": [
    "actors = {}\n",
    "\n",
    "for event in episodes[1]:\n",
    "    sequence = int(event[2])\n",
    "    actors[sequence] = event[5]\n",
    "\n",
    "all_actors = list(set([actor[1] for actor in actors.items()]))\n",
    "all_actors"
   ]
  }
 ],
 "metadata": {
  "kernelspec": {
   "display_name": "Python 3",
   "language": "python",
   "name": "python3"
  },
  "language_info": {
   "codemirror_mode": {
    "name": "ipython",
    "version": 3
   },
   "file_extension": ".py",
   "mimetype": "text/x-python",
   "name": "python",
   "nbconvert_exporter": "python",
   "pygments_lexer": "ipython3",
   "version": "3.7.6"
  }
 },
 "nbformat": 4,
 "nbformat_minor": 4
}
